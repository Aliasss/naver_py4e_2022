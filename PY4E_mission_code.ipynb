{
  "nbformat": 4,
  "nbformat_minor": 0,
  "metadata": {
    "colab": {
      "name": "PY4E_mission_haesol.ipynb",
      "provenance": [],
      "collapsed_sections": []
    },
    "kernelspec": {
      "name": "python3",
      "display_name": "Python 3"
    },
    "language_info": {
      "name": "python"
    }
  },
  "cells": [
    {
      "cell_type": "markdown",
      "source": [
        "# 1주차 미션"
      ],
      "metadata": {
        "id": "hMAg2BtoBLNU"
      }
    },
    {
      "cell_type": "markdown",
      "source": [
        "Q3. \n",
        "- 각각의 Error를 발생시키는 코드를 2가지씩 만들어보고\n",
        "- Debugging 한 코드도 만들어 봅시다.\n",
        "- 그 밖에 다른 Error도 3가지를 찾아 그 Error를 발생시키는 코드와\n",
        "- Debugging한 코드를 1가지씩 만들어 봅시다."
      ],
      "metadata": {
        "id": "upNBjS0oLZT9"
      }
    },
    {
      "cell_type": "code",
      "source": [
        "# SyntaxError\n",
        "# (1) 에러 발생코드\n",
        "se = 5\n",
        "if a == 5\n",
        "    print(a)\n",
        "# 디버깅한 코드\n",
        "se = 5\n",
        "if a == 5:\n",
        "    print(a)\n",
        "# (2) 에러 발생코드\n",
        "def f()\n",
        "    global a, b\n",
        "    a, b = 1, 0\n",
        "    return a + b\n",
        "# 디버깅한 코드\n",
        "def f():\n",
        "    global a, b\n",
        "    a, b = 1, 0\n",
        "    return a + b\n",
        " \n",
        "# ValueError\n",
        "# (1) 에러 발생코드\n",
        "print(int('abcabc'))\n",
        "\n",
        "# 디버깅한 코드\n",
        "print('abcabc')\n",
        "\n",
        "# TypeError\n",
        "# (1) 에러 발생코드\n",
        "print([x + 'a' for x in [1, 2, 3, 4, 5]])\n",
        "# 디버깅한 코드\n",
        "print([str(x) + 'a' for x in [1, 2, 3, 4, 5]])\n",
        "# (2) 에러 발생코드\n",
        "te = 'a'\n",
        "print(te + 1)\n",
        "# 디버깅한 코드\n",
        "te = 'a'\n",
        "print(te + '1')\n",
        "\n",
        "# IndexError\n",
        "# 에러 발생 코드\n",
        "li = [1, 2, 3, 4, 5]\n",
        "print(li[5])\n",
        "# 디버깅한 코드\n",
        "li = [1, 2, 3, 4, 5]\n",
        "print(li[4])\n",
        "\n",
        "# NameError\n",
        "# 에러 발생코드\n",
        "a, b = 1, 2\n",
        "print(c)\n",
        "# 디버깅한 코드\n",
        "a, b = 1, 2\n",
        "print(a)\n",
        "\n",
        "# KeyError\n",
        "# 에러 발생코드\n",
        "x = {'가':1, '나':2}\n",
        "print(x['다'])\n",
        "# 디버깅한 코드\n",
        "x = {'가':1, '나':2}\n",
        "print(x['나'])"
      ],
      "metadata": {
        "id": "tiT8e5WOl-un"
      },
      "execution_count": null,
      "outputs": []
    },
    {
      "cell_type": "markdown",
      "source": [
        "Q4. 한국 나이를 미국 나이로 변환하는 프로그램을 코딩\n",
        "- hint: 미국 나이는 생일이 지났는지 안지났는지가 중요.\n",
        "- birth = int(intput('생일이 지났습니까? 맞으면 0 아니면 -1 : '))"
      ],
      "metadata": {
        "id": "SSg5awtFMfR9"
      }
    },
    {
      "cell_type": "code",
      "source": [
        "korea_age = int(input(\"한국 나이를 알려주세요: \"))\n",
        "is_over_birth = int(input(\"생일이 지났나요? 맞으면 1 아니면 0을 입력해주세요: \"))\n",
        "usa_age = korea_age\n",
        "\n",
        "try: \n",
        "    if is_over_birth == 1:\n",
        "        usa_age = korea_age - 1\n",
        "        print(f'미국 나이: {usa_age}')\n",
        "    elif is_over_birth == 0:\n",
        "        usa_age = korea_age - 2\n",
        "        print(f'미국 나이: {usa_age}')\n",
        "    else:\n",
        "        raise Exception('1 혹은 0이 아닌 숫자를 입력했습니다.')\n",
        "\n",
        "except Exception as e:\n",
        "    print('예외 발생.', e)"
      ],
      "metadata": {
        "colab": {
          "base_uri": "https://localhost:8080/"
        },
        "id": "iMJlWNIFMfMG",
        "outputId": "85ac3a81-7249-419d-802c-823ff39ee619"
      },
      "execution_count": null,
      "outputs": [
        {
          "output_type": "stream",
          "name": "stdout",
          "text": [
            "한국 나이를 알려주세요: 30\n",
            "생일이 지났나요? 맞으면 1 아니면 0을 입력해주세요: 0\n",
            "미국 나이: 28\n"
          ]
        }
      ]
    },
    {
      "cell_type": "markdown",
      "source": [
        "# 2주차 미션"
      ],
      "metadata": {
        "id": "TBJRamz1BOme"
      }
    },
    {
      "cell_type": "markdown",
      "source": [
        "Q1. 컴퓨터와 함께하는 가위바위보 게임을 만들어봅시다!\n",
        "\n",
        "조건1 : 함수의 인자로는 나의 가위바위보 선택이 들어감\n",
        "          (0, 1 ,2 혹은 \"가위\", \"바위\", \"보\" 로 입력할 수 있습니다. - 총 6가지 방법으로 넣을 수 있음)\n",
        "\n",
        "조건2 : 누가 무엇을 냈고, 누가 승리 했는지 출력이 되어야 함"
      ],
      "metadata": {
        "id": "DNzFSCLuBTFq"
      }
    },
    {
      "cell_type": "code",
      "source": [
        "import random\n",
        "\n",
        "# 0:가위, 1:바위, 2:보\n",
        "def computer():\n",
        "    com = random.randint(0, 2)\n",
        "    if com == 0:\n",
        "        com = '가위'\n",
        "    elif com == 1:\n",
        "        com = '바위'\n",
        "    else:\n",
        "        com = '보'\n",
        "    return com\n",
        "\n",
        "def mychoice(m):\n",
        "    me = 0\n",
        "    try:\n",
        "        if (m == '가위') or (m == '바위') or (m == '보'):\n",
        "            return m\n",
        "        if m == '0':\n",
        "            me = '가위'\n",
        "        elif m == '1':\n",
        "            me = '바위'\n",
        "        elif m == '2':\n",
        "            me = '보'\n",
        "        else:\n",
        "            raise Exception('0, 1, 2, 가위, 바위, 보 중 하나를 입력하지 않았습니다.')\n",
        "    except Exception as e:\n",
        "        print('에러 발생', e)\n",
        "        \n",
        "    return me\n",
        "    \n",
        "def result():\n",
        "    com = computer()\n",
        "    me = mychoice(input(\"0, 1, 2 혹은 가위, 바위, 보 중 하나를 입력하세요: \"))\n",
        "    # 무승부\n",
        "    if com == me:\n",
        "        print(f\"나: {me}\\n컴퓨터: {com}\\n무승부!\")\n",
        "    # 무승부 아닌 경우\n",
        "    elif (com == '가위') and (me == '바위'):\n",
        "        print(f\"나: {me}\\n컴퓨터: {com}\\n나 승리!\")\n",
        "    elif (com == '가위') and (me == '보'):\n",
        "        print(f\"나: {me}\\n컴퓨터: {com}\\n컴퓨터 승리!\")\n",
        "    elif (com == '바위') and (me == '가위'):\n",
        "        print(f\"나: {me}\\n컴퓨터: {com}\\n컴퓨터 승리!\")\n",
        "    elif (com == '바위') and (me == '보'):\n",
        "        print(f\"나: {me}\\n컴퓨터: {com}\\n나 승리!\")\n",
        "    elif (com == '보') and (me == '가위'):\n",
        "        print(f\"나: {me}\\n컴퓨터: {com}\\n나 승리!\")\n",
        "    elif (com == '보') and (me == '바위'):\n",
        "        print(f\"나: {me}\\n컴퓨터: {com}\\n컴퓨터 승리!\")\n",
        "    \n",
        "result()"
      ],
      "metadata": {
        "id": "px87BXRWXPgd",
        "colab": {
          "base_uri": "https://localhost:8080/"
        },
        "outputId": "89aae95c-5ef4-4578-a5e6-eb84e4eba6d5"
      },
      "execution_count": null,
      "outputs": [
        {
          "output_type": "stream",
          "name": "stdout",
          "text": [
            "0, 1, 2 혹은 가위, 바위, 보 중 하나를 입력하세요: 1\n",
            "나: 바위\n",
            "컴퓨터: 바위\n",
            "무승부!\n"
          ]
        }
      ]
    },
    {
      "cell_type": "markdown",
      "source": [
        "Q2. 월급을 입력하면 연봉을 계산해주는 계산기를 만들어 봅시다. 세전 연봉과 세후 연봉을 함께 출력하도록 해봅니다."
      ],
      "metadata": {
        "id": "uyw_d3dmM56e"
      }
    },
    {
      "cell_type": "code",
      "source": [
        "def yearly_payment(monthly_payment):\n",
        "    global yearly_pay\n",
        "    # 세전 = before_pay, 세후 = after_pay\n",
        "    before_pay, after_pay = monthly_payment * 12, 0\n",
        "\n",
        "    try:\n",
        "        if (before_pay >= 0) and (before_pay <= 1200):\n",
        "            after_pay = before_pay * 94 / 100\n",
        "        elif (before_pay > 1200) and (before_pay <= 4600):\n",
        "            after_pay = before_pay * 85 / 100\n",
        "        elif (before_pay > 4600) and (before_pay <= 8800):\n",
        "            after_pay = before_pay * 76 / 100\n",
        "        elif (before_pay > 8800) and (before_pay <= 15000):\n",
        "            after_pay = before_pay * 65 / 100\n",
        "        elif (before_pay > 15000) and (before_pay <= 30000):\n",
        "            after_pay = before_pay * 62 / 100\n",
        "        elif (before_pay > 30000) and (before_pay <= 50000):\n",
        "            after_pay = before_pay * 60 / 100\n",
        "        elif before_pay > 50000:\n",
        "            after_pay = before_pay * 58 / 100\n",
        "        else:\n",
        "            raise Exception('마이너스 값을 입력했습니다.')\n",
        "        print(f\"세전 연봉: {before_pay}만원\\n세후 연봉: {int(after_pay)}만원\")\n",
        "    except Exception as e:\n",
        "        print('에러 발생:', e)\n",
        "\n",
        "yearly_payment(int(input('월급 입력(만원): ')))"
      ],
      "metadata": {
        "colab": {
          "base_uri": "https://localhost:8080/"
        },
        "id": "OOtUC9QuBk1Y",
        "outputId": "048b61f6-4f7f-42d0-b5de-c8ed04143b7e"
      },
      "execution_count": null,
      "outputs": [
        {
          "output_type": "stream",
          "name": "stdout",
          "text": [
            "월급 입력(만원): 0\n",
            "세전 연봉: 0만원\n",
            "세후 연봉: 0만원\n"
          ]
        }
      ]
    },
    {
      "cell_type": "markdown",
      "source": [
        "Q3. 학생 이름과 점수를 입력하면 학점을 출력하는 학점 변환기를 만들어 봅시다.\n",
        "\n",
        "이름과 점수, 학점 모두 출력하도록 해봅니다.\n",
        "\n",
        " "
      ],
      "metadata": {
        "id": "uS-iYyoYPbjv"
      }
    },
    {
      "cell_type": "code",
      "source": [
        "def grader(name, point):\n",
        "    global grade\n",
        "    grade = 0\n",
        "    try:\n",
        "        if (point >= 95) and (point <= 100):\n",
        "            grade = 'A+'\n",
        "        elif (point >= 90) and (point <= 94):\n",
        "            grade = 'A'\n",
        "        elif (point >= 85) and (point <= 89):\n",
        "            grade = 'B+'\n",
        "        elif (point >= 80) and (point <= 84):\n",
        "            grade = 'B'\n",
        "        elif (point >= 75) and (point <= 79):\n",
        "            grade = 'C+'\n",
        "        elif (point >= 70) and (point <= 74):\n",
        "            grade = 'C'\n",
        "        elif (point >= 65) and (point <= 69):\n",
        "            grade = 'D+'\n",
        "        elif (point >= 60) and (point <= 64):\n",
        "            grade = 'D'\n",
        "        elif (point < 60):\n",
        "            grade = 'F'\n",
        "        else:\n",
        "            raise Exception('점수를 잘못 입력했습니다.')\n",
        "        print(f\"학생이름 : {name}\\n점수 : {point}점\\n학점 : {grade}\")\n",
        "    except Exception as e:\n",
        "        print('에러 발생:', e)\n",
        "\n",
        "name, point = input().split(', ')\n",
        "grader(name, int(point))"
      ],
      "metadata": {
        "colab": {
          "base_uri": "https://localhost:8080/"
        },
        "id": "rvwNuRUiOCoq",
        "outputId": "c95c9156-ad6e-47d0-8751-5236976dbd1c"
      },
      "execution_count": null,
      "outputs": [
        {
          "output_type": "stream",
          "name": "stdout",
          "text": [
            "이호창, 111\n",
            "에러 발생: 점수를 잘못 입력했습니다.\n"
          ]
        }
      ]
    },
    {
      "cell_type": "markdown",
      "source": [
        "📌Q4. 나이와 현금 또는 카드를 입력하면 버스 요금이 출력되는 버스 요금 계산기를 만들어봅시다. \n",
        "\n"
      ],
      "metadata": {
        "id": "-mEO9B26WPAX"
      }
    },
    {
      "cell_type": "code",
      "source": [
        "def bus_fare(age, method):\n",
        "    global fare\n",
        "    fare = 0\n",
        "    try:\n",
        "        if (age > 0) and (age < 8):\n",
        "            fare = 0\n",
        "        elif (age >= 8) and (age < 14):\n",
        "            fare = 450\n",
        "        elif (age >= 14) and (age < 20) and (method == '카드'):\n",
        "            fare = 720\n",
        "        elif (age >= 14) and (age < 20) and (method == '현금'):\n",
        "            fare = 1000\n",
        "        elif (age >= 20) and (method == '카드'):\n",
        "            fare = 1200\n",
        "        elif (age >= 20) and (method == '현금'):\n",
        "            fare = 1300\n",
        "        elif age >= 75:\n",
        "            fare = 0\n",
        "        else:\n",
        "            raise Exception('정확히 입력해주세요.')\n",
        "        print(f\"나이: {age}세\\n지불유형: {method}\\n버스요금: {fare}원\")\n",
        "    except Exception as e:\n",
        "        print('에러발생:', e)\n",
        "\n",
        "age, method = input().split(', ')\n",
        "bus_fare(int(age), method)"
      ],
      "metadata": {
        "colab": {
          "base_uri": "https://localhost:8080/"
        },
        "id": "ph3Dorc0SA00",
        "outputId": "5f40a824-8838-4da8-8ed2-aa1b1fb0ea2d"
      },
      "execution_count": null,
      "outputs": [
        {
          "output_type": "stream",
          "name": "stdout",
          "text": [
            "30, ㅁㅁ\n",
            "에러발생: 정확히 입력해주세요.\n"
          ]
        }
      ]
    },
    {
      "cell_type": "code",
      "source": [
        ""
      ],
      "metadata": {
        "id": "XdRVfyZyq88o"
      },
      "execution_count": null,
      "outputs": []
    },
    {
      "cell_type": "markdown",
      "source": [
        "# 3주차 미션"
      ],
      "metadata": {
        "id": "P6cKHKpcq93l"
      }
    },
    {
      "cell_type": "markdown",
      "source": [
        "📌Q1. 숫자를 입력 받고 그 숫자의 구구단을 출력하는 함수를 만들어 봅시다. 다만 아래의 조건을 만족해 주세요"
      ],
      "metadata": {
        "id": "zlvo3xKhq90t"
      }
    },
    {
      "cell_type": "code",
      "source": [
        "num = int(input('몇 단? : '))\n",
        "if num <= 0:\n",
        "    num = int(input('1 이상의 숫자를 입력하시오 : '))\n",
        "const = 1\n",
        "print(f\"{num}단\")\n",
        "\n",
        "while num * const <= 50:\n",
        "    print(f\"{num}X{const} = {num*const}\")\n",
        "    const += 2\n",
        "    if const > 9:\n",
        "        break"
      ],
      "metadata": {
        "colab": {
          "base_uri": "https://localhost:8080/"
        },
        "id": "pjadE9TRiVt6",
        "outputId": "7259093f-fb86-4aab-b8e6-632038fff852"
      },
      "execution_count": null,
      "outputs": [
        {
          "output_type": "stream",
          "name": "stdout",
          "text": [
            "몇 단? : 8\n",
            "8단\n",
            "8X1 = 8\n",
            "8X3 = 24\n",
            "8X5 = 40\n"
          ]
        }
      ]
    },
    {
      "cell_type": "markdown",
      "source": [
        "📌Q2. 가위바위보 업그레이드 버젼을 함수로 만들어 봅시다. 아래와 같은 조건을 만족해 주세요."
      ],
      "metadata": {
        "id": "Sglsr13Iv6SK"
      }
    },
    {
      "cell_type": "markdown",
      "source": [
        "조건 1: 게임을 몇 판을 진행할 것인지 입력을 받아주기\n",
        "\n",
        "조건 2: 0, 1, 2, \"가위\", \"바위\", \"보\" 이외에 다른 입력을 받으면 재입력 받기\n",
        "\n",
        "조건 3: 게임종료 후 나와 컴퓨터의 총 전적 출력하기"
      ],
      "metadata": {
        "id": "uaMtsJhJiX_W"
      }
    },
    {
      "cell_type": "code",
      "source": [
        ""
      ],
      "metadata": {
        "id": "lIlA8mQfFES5"
      },
      "execution_count": null,
      "outputs": []
    },
    {
      "cell_type": "markdown",
      "source": [
        "📌Q3. 2개의 숫자를 입력하여 그 사이에 짝수만 출력하는 함수를 만들어 봅시다. 그리고 중앙값도 함께 출력 해봅시다.(단, 중앙값이 짝수가 아닐 경우에는 중앙값은 출력을 하지 않고, 짝수인 수만 출력한다)"
      ],
      "metadata": {
        "id": "Kgk8D8o_iXo8"
      }
    },
    {
      "cell_type": "code",
      "source": [
        "# n =첫 숫자, m = 마지막 숫자\n",
        "\n",
        "def find_even(n, m):\n",
        "    num_li = [i for i in range(n, m+1)]\n",
        "    med_index = len(num_li) // 2\n",
        "    median = (num_li[med_index] + num_li[-med_index - 1]) / 2\n",
        "\n",
        "    for num in num_li:\n",
        "        if num % 2 == 0:\n",
        "            if median == num:\n",
        "                print(f\"{num} 중앙값\")\n",
        "            else:\n",
        "                print(f\"{num} 짝수\")\n",
        "        else: # 홀수이면 다음 num으로 \n",
        "            continue\n",
        "\n",
        "n = int(input(\"첫 번째 수 입력 : \"))\n",
        "m = int(input(\"두 번째 수 입력 : \"))\n",
        "find_even(n, m)"
      ],
      "metadata": {
        "id": "z7tu7e5CiZ8y",
        "colab": {
          "base_uri": "https://localhost:8080/"
        },
        "outputId": "f1757faa-4dd4-490e-98f3-0bce3a9003af"
      },
      "execution_count": null,
      "outputs": [
        {
          "output_type": "stream",
          "name": "stdout",
          "text": [
            "첫 번째 수 입력 : 1\n",
            "두 번째 수 입력 : 7\n",
            "2 짝수\n",
            "4 중앙값\n",
            "6 짝수\n"
          ]
        }
      ]
    },
    {
      "cell_type": "markdown",
      "source": [
        "📌Q4. 2개의 숫자를 입력하여 그 사이에 소수가 몇 개인지 출력하는 함수를 만들어 봅시다."
      ],
      "metadata": {
        "id": "Fqs7N-AjiaVv"
      }
    },
    {
      "cell_type": "code",
      "source": [
        "def count_prime_number(n, m):\n",
        "    li = []\n",
        "    for i in range(n, m+1):\n",
        "        if i == 1:\n",
        "            continue\n",
        "        else:\n",
        "            cnt = 0\n",
        "            for j in range(2, i):\n",
        "                if i%j == 0:\n",
        "                    cnt += 1\n",
        "            if cnt == 0:\n",
        "                li.append(i)\n",
        "\n",
        "    print(f\"소수개수 {len(li)}\")\n",
        "\n",
        "n = int(input(\"첫 번째 수 입력 : \"))\n",
        "m = int(input(\"두 번째 수 입력 : \"))\n",
        "count_prime_number(n, m)"
      ],
      "metadata": {
        "colab": {
          "base_uri": "https://localhost:8080/"
        },
        "id": "wI_FmYkD_36M",
        "outputId": "edba544f-7785-4097-f709-c38bf84541f4"
      },
      "execution_count": null,
      "outputs": [
        {
          "output_type": "stream",
          "name": "stdout",
          "text": [
            "첫 번째 수 입력 : 2\n",
            "두 번째 수 입력 : 11\n",
            "소수개수 5\n"
          ]
        }
      ]
    },
    {
      "cell_type": "markdown",
      "source": [
        "4주차 미션"
      ],
      "metadata": {
        "id": "mrEeosrLD-lp"
      }
    },
    {
      "cell_type": "markdown",
      "source": [
        "📌Q1. 우리는 큰 수를 나타낼 때 3자리마다 , 를 찍어서 구분해 줍니다. 파이썬에서는 아래와 같이 쉽게 나타낼 수 있습니다."
      ],
      "metadata": {
        "id": "lTErjrMYXwWb"
      }
    },
    {
      "cell_type": "code",
      "source": [
        ""
      ],
      "metadata": {
        "id": "js_JjXu3XylT"
      },
      "execution_count": null,
      "outputs": []
    },
    {
      "cell_type": "code",
      "source": [
        ""
      ],
      "metadata": {
        "id": "LEjpXpj2Xyhv"
      },
      "execution_count": null,
      "outputs": []
    },
    {
      "cell_type": "markdown",
      "source": [
        "📌Q2. 어느날 여러분이 어떤 글을 읽고 있는데, 갑자기 특정 글자가 전체 글에서 몇개 들어있는지 궁금해졌습니다. 그럼 한 번 파이썬 함수로 만들어 봅시다.\n"
      ],
      "metadata": {
        "id": "vM-TLhiVXyd9"
      }
    },
    {
      "cell_type": "code",
      "source": [
        "text = \"\"\"밤사이 기록적인 폭우로 크고 작은 사고가 잇따르고 있습니다.\n",
        "\n",
        "\n",
        "현재 레이더 화면을 보시면 지금도 계속해서 강한 비구름이 유입되고 있고요.\n",
        "\n",
        "지금은 경기 북부와 영서 지역을 중심으로 시간당 30mm 이상의 장대비가 쏟아지고 있습니다.\n",
        "\n",
        "앞으로 이 비구름은 정체하면서 수도권과 영서 지역에 다시 강한 비를 퍼붓겠는데요.\n",
        "\n",
        "어제부터 지금까지 수도권에는 그야말로 물폭탄이 쏟아졌습니다.\n",
        "\n",
        "어제부터 지금까지 서울 서초구에는 410mm 여주에도 415mm가량의 많은 비가 내렸고요.\n",
        "\n",
        "양평에도 396mm가량의 비가 쏟아졌습니다.\n",
        "\n",
        "이에 따라서 수도권 전 지역과 강원 남부 지역에는 호우경보가 발효 중이고요.\n",
        "\n",
        "그 밖의 충청 북부와 강원 내륙 지역에도 호우주의보가 계속되고 있습니다.\n",
        "\n",
        "또 이곳을 중심으로는 산사태 위기 경보까지 내려져 있는데요.\n",
        "\n",
        "문제는 지금 내린 양만큼 앞으로 더 내린다는 겁니다.\n",
        "\n",
        "모레까지 경기 남부와 강원 중남부, 충청 북부 지역에 350mm 이상, 그 밖의 수도권과 충청, 경북 북서 지역에도 300mm 안팎의 많은 비가 내리겠습니다.\n",
        "\n",
        "특히 오늘 밤부터는 수도권과 영서 지역을 중심으로 시간당 50에서 100mm 안팎의 매우 강한 비가 다시 쏟아질 수 있다는 겁니다.\n",
        "\n",
        "더 이상 피해 없도록 주의, 또 주의해주셔야겠습니다.\"\"\"\n",
        "\n",
        "def count_word(text, word):\n",
        "    f = open('text.txt', 'w')\n",
        "    f.write(text)\n",
        "    f.close()\n",
        "    \n",
        "    print(text.count(word))\n",
        "\n",
        "count_word(text, '수도권')"
      ],
      "metadata": {
        "colab": {
          "base_uri": "https://localhost:8080/"
        },
        "id": "9g857BoVXyXX",
        "outputId": "ee3e76b8-0bb8-49e9-b907-8983c96c38d4"
      },
      "execution_count": null,
      "outputs": [
        {
          "output_type": "stream",
          "name": "stdout",
          "text": [
            "5\n"
          ]
        }
      ]
    },
    {
      "cell_type": "markdown",
      "source": [
        "📌Q3. 요즘 식당에 들어가면 방명록을 적게 되어있습니다.\n",
        "\n",
        "어느 식당의 사장님이 여러분에게 방명록을 주면서 전화번호를 제대로 적었는지 검사해달라는 부탁을 했습니다.\n",
        "\n",
        "아래와 같은 방명록이 있을 때 방명록을 잘 못쓴 사람의 이름과 잘 못된 번호를 출력하는 함수를 만들어 봅시다.\n"
      ],
      "metadata": {
        "id": "OroxgZN-XyBC"
      }
    },
    {
      "cell_type": "code",
      "source": [
        ""
      ],
      "metadata": {
        "id": "I9Be1RbDX7LK"
      },
      "execution_count": null,
      "outputs": []
    },
    {
      "cell_type": "markdown",
      "source": [
        "📌Q4.  주민등록번호의 앞 6자리는 생년월일이고 뒷자리의 시작번호는 성별을 나타냅니다. 주민등록번호를 입력하면 몇년 몇월 생인지 그리고 남자인지 여자인지 출력하는 함수를 만들어 봅시다.\n"
      ],
      "metadata": {
        "id": "Wfgds-bIX5CE"
      }
    },
    {
      "cell_type": "code",
      "source": [
        "import numpy as np\n",
        "\n",
        "a = input('주민등록번호를 \"-\"를 포함하여 입력해주세요: ',)\n",
        "# 년/월/일 체크\n",
        "# 성별 체크\n",
        "\n",
        "if len(a) != 14:\n",
        "    print('잘못된 번호입니다.\\n올바른 번호를 넣어주세요')\n",
        "\n",
        "# 2000년 이후 출생 확인\n",
        "if (a[:2] >= '00') and (a[:2] <= '21'):\n",
        "    b = input('2000년 이후 출생자 입니까? 맞으면 o 아니면 x: ',)\n",
        "    # 2000년 이후 출생자라고 답했을 경우\n",
        "    if b == 'o':\n",
        "        if int(a[2:4]) not in np.arange(1, 13).tolist(): # 1~12월이 아니면\n",
        "            print('잘못된 번호입니다.\\n올바른 번호를 넣어주세요')\n",
        "        else: # 1~12월이고\n",
        "            if int(a[4:6]) not in np.arange(1, 32).tolist(): # 1~31일이 아니면\n",
        "                print('잘못된 번호입니다.\\n올바른 번호를 넣어주세요')\n",
        "            else:\n",
        "                print(f\"{a[:2]}년 {a[2:4]}월\")\n",
        "\n",
        "\n",
        "\n",
        "\n",
        "\n",
        "# 2000년 이전 출생자일 경우\n",
        "# else:"
      ],
      "metadata": {
        "colab": {
          "base_uri": "https://localhost:8080/"
        },
        "id": "J-NKtgHNX3Yp",
        "outputId": "ec174688-f6f3-43f5-a939-283083b61c55"
      },
      "execution_count": null,
      "outputs": [
        {
          "output_type": "stream",
          "name": "stdout",
          "text": [
            "주민등록번호를 \"-\"를 포함하여 입력해주세요: 001311-1070311\n",
            "2000년 이후 출생자 입니까? 맞으면 o 아니면 x: o\n",
            "잘못된 번호입니다.\n",
            "올바른 번호를 넣어주세요\n"
          ]
        }
      ]
    },
    {
      "cell_type": "markdown",
      "source": [
        "# 5주차 미션"
      ],
      "metadata": {
        "id": "F9EC7zNkfPyj"
      }
    },
    {
      "cell_type": "markdown",
      "source": [
        "📌Q1. 여러분 혹시 베스킨라빈스31 게임을 아시나요? 1부터 31까지 숫자를 플레이어들끼리 번갈아 외치다가 31을 외치는 사람이 패배하는 게임인데요.\n",
        "\n",
        "이번엔 이 게임을 파이썬 함수로 만들어 봅시다. 지성이 없이 숫자를 랜덤하게 외치는 컴퓨터와 대결을 해보겠습니다.\n",
        "\n",
        "😲조건1 - 나의 턴에서는 숫자를 직접 입력하며 한 번 입력 후에 space 한 번으로 구분\n",
        "\n",
        "😲조건2 - 나와 컴퓨터 모두 한 턴에 1회 ~ 3회까지만 숫자를 외칠 수 있음\n",
        "\n",
        "😲조건3 - 외쳐진 숫자보다 1큰 수만 외칠수 있음 (ex: 5 다음엔 무조건 6)\n",
        "\n",
        "위 조건이 안맞을 경우 다시 입력"
      ],
      "metadata": {
        "id": "ExHCgKAQy0Ji"
      }
    },
    {
      "cell_type": "code",
      "source": [
        ""
      ],
      "metadata": {
        "id": "eLjMcQC2y0ES"
      },
      "execution_count": null,
      "outputs": []
    },
    {
      "cell_type": "code",
      "source": [
        ""
      ],
      "metadata": {
        "id": "chvc_bfry0AX"
      },
      "execution_count": null,
      "outputs": []
    },
    {
      "cell_type": "markdown",
      "source": [
        "📌Q2. 다음과 같이 학생들의 시험 답지가 있습니다. 그리고 답안지도 있습니다.\n",
        "\n",
        "함수를 하나 만들어 채점을 하고 학생들의 점수를 출력하고 등수도 함께 출력해주세요."
      ],
      "metadata": {
        "id": "Dvc4yKxiyz9S"
      }
    },
    {
      "cell_type": "code",
      "source": [
        "submit_ans = [\"김갑,3242524215\",\n",
        "                \"이을,3242524223\",\n",
        "                \"박병,2242554131\",\n",
        "                \"최정,4245242315\",\n",
        "                \"정무,3242524315\"]\n",
        "correct_ans = [3,2,4,2,5,2,4,3,1,2]\n",
        "\n",
        "def grader(submit, answer):\n",
        "    result = {}\n",
        "    for i in submit_ans:\n",
        "        cnt = 0\n",
        "        name, sub_ans = i.split(',')[0], i.split(',')[1]\n",
        "        for sa, ca in zip(sub_ans, correct_ans):\n",
        "            if int(sa) == ca:\n",
        "                cnt += 10  # 정답 맞혔을 경우 10점씩 추가\n",
        "        result[name] = cnt\n",
        "    result = sorted(result.items(), key=lambda x: x[1], reverse=True)\n",
        "    \n",
        "    # 출력\n",
        "    for i, j in enumerate(result):\n",
        "        print(f\"학생: {j[0]} 점수: {j[1]}점 {i+1}등\")\n",
        "\n",
        "grader(submit_ans, correct_ans)"
      ],
      "metadata": {
        "colab": {
          "base_uri": "https://localhost:8080/"
        },
        "id": "Q16wdKK2RXRG",
        "outputId": "db91d411-acb4-477c-e616-6ba36effdef2"
      },
      "execution_count": null,
      "outputs": [
        {
          "output_type": "stream",
          "name": "stdout",
          "text": [
            "학생: 정무 점수: 90점 1등\n",
            "학생: 김갑 점수: 80점 2등\n",
            "학생: 이을 점수: 70점 3등\n",
            "학생: 박병 점수: 50점 4등\n",
            "학생: 최정 점수: 40점 5등\n"
          ]
        }
      ]
    },
    {
      "cell_type": "markdown",
      "source": [
        "📌Q3. 숫자 맞추기 게임을 만들어 볼게요. 컴퓨터가 임의의 숫자를 3개 만들고 우리가 그것을 맞춰보겠습니다.\n",
        "\n",
        "😲조건1 - 숫자는 0 ~ 100까지 숫자를 3개 만듭니다(중복 불가).\n",
        "\n",
        "😲조건2 - 5회, 10회까지 정답을 못맞추면 최솟값, 최대값에 대한 힌트를 줍니다.\n",
        "\n",
        "😲조건3 - 정답을 맞추면, 맞춘 정답이 최솟값인지, 중간값인지, 최댓값인지 알려줍니다."
      ],
      "metadata": {
        "id": "ZXEWOvltRXHH"
      }
    },
    {
      "cell_type": "code",
      "source": [
        "import random\n",
        "import numpy as np\n",
        "\n",
        "def guess_number():\n",
        "    com_num = [random.randint(0, 100) for n in range(3)]\n",
        "    cnt = 0\n",
        "    input_num = []\n",
        "    print(com_num)\n",
        "    while 1:\n",
        "        cnt += 1\n",
        "        print(f\"{cnt}차 시도\")\n",
        "        my_num = int(input(\"숫자를 예측해보세요: \"))\n",
        "        \n",
        "        # 이전에 입력한 숫자이면\n",
        "        if my_num in input_num:\n",
        "            print(\"이미 예측에 사용한 숫자입니다.\")\n",
        "            continue\n",
        "        \n",
        "        # 숫자를 맞추면\n",
        "        if my_num in com_num:\n",
        "            \n",
        "            # 만약 맞춘 숫자가 최솟값이면\n",
        "            if my_num == np.min(com_num):\n",
        "                print(f\"숫자를 맞추셨습니다! {my_num}는 최솟값입니다.\")\n",
        "            # 만약 맞춘 숫자가 중앙값이면\n",
        "            elif my_num == np.median(com_num):\n",
        "                print(f\"숫자를 맞추셨습니다! {my_num}는 중앙값입니다.\")\n",
        "            # 만약 맞춘 숫자가 최댓값이면\n",
        "            else:\n",
        "                print(f\"숫자를 맞추셨습니다! {my_num}는 최댓값입니다.\")\n",
        "            \n",
        "            com_num.remove(my_num) # com_num에서 해당 숫자 삭제\n",
        "            input_num.append(my_num)\n",
        "\n",
        "            if len(com_num) == 0:\n",
        "                print(\"게임종료\")\n",
        "                print(f\"{cnt}번 시도만에 예측 성공\")\n",
        "                break\n",
        "\n",
        "        # 숫자를 틀리면\n",
        "        else:\n",
        "            input_num.append(my_num)\n",
        "            print(f\"{my_num}는 없습니다.\")\n",
        "            # 5회 시도까지 정답을 못 맞춘 경우\n",
        "            if (cnt == 5) and (len(com_num) != 0) :\n",
        "                if my_num > np.min(com_num):\n",
        "                    print(f\"최솟값은 {my_num}보다 작습니다.\")\n",
        "                elif my_num < np.min(com_num):\n",
        "                    print(f\"{my_num}는 최솟값보다 작습니다.\")\n",
        "            # 10회 시도까지 정답을 못 맞춘 경우\n",
        "            if (cnt == 10) and (len(com_num) != 0) :\n",
        "                if my_num > np.max(com_num):\n",
        "                    print(f\"최댓값은 {my_num}보다 작습니다.\")\n",
        "                elif my_num < np.max(com_num):\n",
        "                    print(f\"{my_num}는 최댓값보다 작습니다.\")\n",
        "\n",
        "guess_number()"
      ],
      "metadata": {
        "colab": {
          "base_uri": "https://localhost:8080/"
        },
        "id": "OxFg208URW2e",
        "outputId": "fe82b4c0-0dae-4a25-fa05-1cbe7fb59f84"
      },
      "execution_count": null,
      "outputs": [
        {
          "output_type": "stream",
          "name": "stdout",
          "text": [
            "[97, 53, 80]\n",
            "1차 시도\n",
            "숫자를 예측해보세요: 50\n",
            "50는 없습니다.\n",
            "2차 시도\n",
            "숫자를 예측해보세요: 50\n",
            "이미 예측에 사용한 숫자입니다.\n",
            "3차 시도\n",
            "숫자를 예측해보세요: 52\n",
            "52는 없습니다.\n",
            "4차 시도\n",
            "숫자를 예측해보세요: 53\n",
            "숫자를 맞추셨습니다! 53는 최솟값입니다.\n",
            "5차 시도\n",
            "숫자를 예측해보세요: 60\n",
            "60는 없습니다.\n",
            "60는 최솟값보다 작습니다.\n",
            "6차 시도\n",
            "숫자를 예측해보세요: 80\n",
            "숫자를 맞추셨습니다! 80는 최솟값입니다.\n",
            "7차 시도\n",
            "숫자를 예측해보세요: 97\n",
            "숫자를 맞추셨습니다! 97는 최솟값입니다.\n",
            "게임종료\n",
            "7번 시도만에 예측 성공\n"
          ]
        }
      ]
    },
    {
      "cell_type": "markdown",
      "source": [
        "# 6주차 미션"
      ],
      "metadata": {
        "id": "fO_7hJKMyznQ"
      }
    },
    {
      "cell_type": "markdown",
      "source": [
        "📌Q1. 역사 문제를 하나 내보겠습니다. 고려시대와 조선시대 왕 이름 중에서 고려에도 있고 조선에도 있는 이름은 몇개 일까요? 한 번에 딱 안 떠오른다면 왕 이름을 드릴테니 파이썬 함수로 만들어서 출력 해봅시다.\n",
        "\n",
        "😲조건1 - 중복되는 왕 이름 출력\n",
        "😲조건2 - 중복되는 왕 이름의 수 출력"
      ],
      "metadata": {
        "id": "meWbdCloMX2c"
      }
    },
    {
      "cell_type": "code",
      "source": [
        "# 왕이름\n",
        "korea_king = \"태조,혜종,정종,광종,경종,성종,목종,현종,덕종,정종,문종,순종,선종,헌종,숙종,예종,인종,의종,명종,신종,희종,강종,고종,원조,충렬왕,충선왕,충숙왕,충혜왕,충목왕,충정왕,공민왕,우왕,창왕,공양왕\"\n",
        "chosun_king = \"태조,정종,태종,세종,문종,단종,세조,예종,성종,연산군,중종,인종,명종,선조,광해군,인조,효종,현종,숙종,경종,영조,정조,순조,헌종,철종,고종,순종\"\n",
        "\n",
        "# 고려시대 왕 이름 딕셔너리에 저장 (value = 1)\n",
        "korea_chosun = {name:num for name, num in zip(korea_king.split(','), [1 for i in range(len(korea_king))])}\n",
        "\n",
        "# 조선시대 왕 이름이 딕셔너리에 이미 있으면 num += 1\n",
        "def king(korea_king, chosun_king):\n",
        "    cnt = 0\n",
        "    for chosun_name in chosun_king.split(','):\n",
        "        if chosun_name in korea_chosun:\n",
        "            korea_chosun[chosun_name] += 1\n",
        "            cnt += 1\n",
        "            if korea_chosun[chosun_name] > 1:\n",
        "                print(f\"조선과 고려에 모두 있는 왕 이름: {chosun_name}\")\n",
        "        else: # 조선 왕 이름이 고려 왕 이름 중 없으면 다음 루프로 진행\n",
        "            continue\n",
        "        \n",
        "    print(f\"조선과 고려에 모두 있는 왕 이름은 총 {cnt}개 입니다.\")\n",
        "\n",
        "king(korea_king, chosun_king)"
      ],
      "metadata": {
        "colab": {
          "base_uri": "https://localhost:8080/"
        },
        "id": "_12sWNbtGkFs",
        "outputId": "f9c0d921-a053-4ee0-a27b-7a756c04e39c"
      },
      "execution_count": 29,
      "outputs": [
        {
          "output_type": "stream",
          "name": "stdout",
          "text": [
            "조선과 고려에 모두 있는 왕 이름: 태조\n",
            "조선과 고려에 모두 있는 왕 이름: 정종\n",
            "조선과 고려에 모두 있는 왕 이름: 문종\n",
            "조선과 고려에 모두 있는 왕 이름: 예종\n",
            "조선과 고려에 모두 있는 왕 이름: 성종\n",
            "조선과 고려에 모두 있는 왕 이름: 인종\n",
            "조선과 고려에 모두 있는 왕 이름: 명종\n",
            "조선과 고려에 모두 있는 왕 이름: 현종\n",
            "조선과 고려에 모두 있는 왕 이름: 숙종\n",
            "조선과 고려에 모두 있는 왕 이름: 경종\n",
            "조선과 고려에 모두 있는 왕 이름: 헌종\n",
            "조선과 고려에 모두 있는 왕 이름: 고종\n",
            "조선과 고려에 모두 있는 왕 이름: 순종\n",
            "조선과 고려에 모두 있는 왕 이름은 총 13개 입니다.\n"
          ]
        }
      ]
    },
    {
      "cell_type": "markdown",
      "source": [
        "📌Q2.  여러분은 6명의 멤버를 거느리는 영업팀의 영업관리자 입니다. 각 멤버별로 올해 실적을 보고 잘한 멤버는 보너스를 주고 못한 멤버는 면담을 하려고 합니다. 파이썬을 이용하여 함수를 만들어 보너스 대상자와 면담 대상자를 골라주세요.\n",
        "\n",
        "😲조건 1 - 예비 보너스 대상자는 평균 실적 1등 2등 입니다.  \n",
        "😲조건 2 - 예비 면담 대상자는 평균 실적 5등 6등 입니다.  \n",
        "😲조건 3 - 보너스 대상자의 평균 실적이 5보다 크지 않으면 보너스 대상자에서 제외 됩니다.  \n",
        "😲조건 4 - 면담 대상자의 평균 실적이 3보다 크면 면담 대상자에서 제외 됩니다."
      ],
      "metadata": {
        "id": "Lzs6-v_BGj1C"
      }
    },
    {
      "cell_type": "code",
      "source": [
        "import numpy as np\n",
        "# 이름, 실적\n",
        "member_names = [\"갑돌이\", \"갑순이\", \"을돌이\", \"을순이\", \"병돌이\", \"병순이\"]\n",
        "member_records = [[4,5,3,5,6,5,3,4,1,3,4,5],[2,3,4,3,1,2,0,3,2,5,7,2], \n",
        "           [1,3,0,3,3,4,5,6,7,2,2,1],[3,2,9,2,3,5,6,6,4,6,9,9],\n",
        "           [8,7,7,5,6,7,5,8,8,6,10,9],[7,8,4,9,5,10,3,3,2,2,1,3]]\n",
        "name_record_dict = {name:round(np.mean(re), 1) for name, re in zip(member_names, member_records)}\n",
        "\n",
        "# value 기준으로 내림차순 정렬\n",
        "name_record_dict = sorted(name_record_dict.items(), key=lambda x: x[1], reverse=True)\n",
        "\n",
        "def sales_management(member_names, member_records):\n",
        "    for num, li in enumerate(name_record_dict):\n",
        "        if num in [0, 1]: # 평균 실적이 1등, 2등이면\n",
        "            if li[1] <= 5: # 평균 실적이 5보다 크지 않으면 제외\n",
        "                continue\n",
        "            else:\n",
        "                print(f\"보너스 대상자: {li[0]}\")\n",
        "        elif num in [4, 5]: # 평균 실적이 5등, 6등이면\n",
        "            if li[1] > 3: # 평균 실적이 3보다 크면 제외\n",
        "                continue\n",
        "            else:\n",
        "                print(f\"\\n면담 대상자: {li[0]}\")\n",
        "\n",
        "sales_management(member_names, member_records)"
      ],
      "metadata": {
        "colab": {
          "base_uri": "https://localhost:8080/"
        },
        "id": "hpi1QuTBMc1e",
        "outputId": "ab47d978-02d4-4e97-e27c-9c3bf6509831"
      },
      "execution_count": 65,
      "outputs": [
        {
          "output_type": "stream",
          "name": "stdout",
          "text": [
            "보너스 대상자: 병돌이\n",
            "보너스 대상자: 을순이\n",
            "\n",
            "면담 대상자: 갑순이\n"
          ]
        }
      ]
    },
    {
      "cell_type": "markdown",
      "source": [
        "📌Q3. 예금 금리가 너무 낮아서 주식을 시작했습니다. 아래와 같이 매수한 종목 이름, 수량, 매수 평균 금액이 있습니다. 판매가는 따로 주어집니다. 종목과 수익률만 출력하시고 종목별 수익률이 높은 순서대로 출력해주세요. (소수 둘째자리까지 출력)"
      ],
      "metadata": {
        "id": "kibLeQ_4PFnV"
      }
    },
    {
      "cell_type": "code",
      "source": [
        "stocks = \"삼성전자/10/85000,카카오/15/130000,LG화학/3/820000,NAVER/5/420000\"\n",
        "sells = [82000, 160000, 835000, 410000]\n",
        "# stoct_dict = {'심성전자':85000, ...}\n",
        "stock_dict = {name:int(price) for name, price in [(li.split('/')[0], li.split('/')[2]) for li in li for li in stocks.split(',')]}\n",
        "# 수익률 계산\n",
        "for (name, price), sell in zip(stock_dict.items(), sells):\n",
        "    earning_rate = ((sell - price)/price)*100\n",
        "    stock_dict[name] = round(earning_rate, 2)\n",
        "\n",
        "stock_dict = sorted(stock_dict.items(), key=lambda x: x[1], reverse=True)\n",
        "for li in stock_dict:\n",
        "    print(f\"{li[0]}의 수익률: {li[1]}\")"
      ],
      "metadata": {
        "colab": {
          "base_uri": "https://localhost:8080/"
        },
        "id": "uS7UogdYR491",
        "outputId": "459d72b8-fe75-4472-cdf6-317d522cd1cc"
      },
      "execution_count": 99,
      "outputs": [
        {
          "output_type": "stream",
          "name": "stdout",
          "text": [
            "카카오의 수익률: 23.08\n",
            "LG화학의 수익률: 1.83\n",
            "NAVER의 수익률: -2.38\n",
            "삼성전자의 수익률: -3.53\n"
          ]
        }
      ]
    },
    {
      "cell_type": "markdown",
      "source": [
        "📌Q4. 여러분은 어떤 상품을 판매하고 있습니다. 매월 상품을 많이 구매해준 VIP회원에게 할인 쿠폰을 제공해주려고 합니다. 아래와 같은 회원 정보가 있을 때 회원 정보를 출력하고 할인 쿠폰을 받을 회원이 누구인지 출력하는 함수를 만들어 주세요.\n",
        "\n",
        "😲조건1 - 8회 이상 구매한 회원이 VIP대상  \n",
        "😲조건2 - 전화번호가 없으면 쿠폰을 받을 수 없음  \n",
        "😲조건3 - 전화번호가 없으면 000-0000-0000으로 출력할 것  "
      ],
      "metadata": {
        "id": "yfKUQb74TjmH"
      }
    },
    {
      "cell_type": "code",
      "source": [
        "import pandas as pd\n",
        "\n",
        "# 6명의 회원이고 \"아이디,나이,전화번호,성별,지역,구매횟수\" 순서로 입력되어 있음\n",
        "info = \"abc,21세,010-1234-5678,남자,서울,5,cdb,25세,x,남자,서울,4,bbc,30세,010-2222-3333,여자,서울,3,ccb,29세,x,여자,경기,9,dab,26세,x,남자,인천,8,aab,23세,010-3333-1111,여자,경기,10\"\n",
        "li = []\n",
        "info_li = []\n",
        "info_dict ={}\n",
        "for i, j in enumerate(info.split(',')):\n",
        "    i += 1\n",
        "    li.append(j)\n",
        "    if i % 6 == 0:\n",
        "        # 6개씩 순환 -> info_li에 li 추가\n",
        "        info_li.append(li)\n",
        "        # 리셋\n",
        "        li = []\n",
        "\n",
        "info_dict['아이디'] = [li[0] for li in info_li]\n",
        "info_dict['나이'] = [li[1] for li in info_li]\n",
        "info_dict['전화번호'] = ['000-0000-0000' if li[2] == 'x' else li[2] for li in info_li]\n",
        "info_dict['성별'] = [li[3] for li in info_li]\n",
        "info_dict['지역'] = [li[4] for li in info_li]\n",
        "info_dict['구매횟수'] = [int(li[5]) for li in info_li]\n",
        "print(info_dict)\n",
        "\n",
        "# DataFrame 생성\n",
        "df = pd.DataFrame(info_dict)\n",
        "print(f\"할인 쿠폰을 받을 회원정보 아이디: {df.loc[(df['구매횟수']>=8) & (df['전화번호']!='000-0000-0000'), '아이디'].tolist()}\\\n",
        "      \\n나이: {df.loc[(df['구매횟수']>=8) & (df['전화번호']!='000-0000-0000'), '나이'].tolist()}\\\n",
        "      \\n전화번호: {df.loc[(df['구매횟수']>=8) & (df['전화번호']!='000-0000-0000'), '전화번호'].tolist()}\\\n",
        "      \\n성별: {df.loc[(df['구매횟수']>=8) & (df['전화번호']!='000-0000-0000'), '지역'].tolist()}\\\n",
        "      \\n구매횟수: {df.loc[(df['구매횟수']>=8) & (df['전화번호']!='000-0000-0000'), '구매횟수'].tolist()}\")"
      ],
      "metadata": {
        "colab": {
          "base_uri": "https://localhost:8080/"
        },
        "id": "VA2RlefLR43X",
        "outputId": "e6f753f0-213e-49fb-90d2-0ba20028a32f"
      },
      "execution_count": 178,
      "outputs": [
        {
          "output_type": "stream",
          "name": "stdout",
          "text": [
            "{'아이디': ['abc', 'cdb', 'bbc', 'ccb', 'dab', 'aab'], '나이': ['21세', '25세', '30세', '29세', '26세', '23세'], '전화번호': ['010-1234-5678', '000-0000-0000', '010-2222-3333', '000-0000-0000', '000-0000-0000', '010-3333-1111'], '성별': ['남자', '남자', '여자', '여자', '남자', '여자'], '지역': ['서울', '서울', '서울', '경기', '인천', '경기'], '구매횟수': [5, 4, 3, 9, 8, 10]}\n",
            "할인 쿠폰을 받을 회원정보 아이디: ['aab']      \n",
            "나이: ['23세']      \n",
            "전화번호: ['010-3333-1111']      \n",
            "성별: ['경기']      \n",
            "구매횟수: [10]\n"
          ]
        }
      ]
    },
    {
      "cell_type": "code",
      "source": [
        ""
      ],
      "metadata": {
        "id": "vXSkqMO2jzap"
      },
      "execution_count": null,
      "outputs": []
    }
  ]
}